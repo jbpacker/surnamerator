{
 "cells": [
  {
   "cell_type": "code",
   "execution_count": null,
   "id": "d276465e-9a2c-4122-b28b-bd38a7071669",
   "metadata": {},
   "outputs": [],
   "source": [
    "## Investigating if m1 speeds things up\n",
    "\n",
    "import time\n",
    "cpu_device = torch.device('mps')\n",
    "hi = torch.rand((10000, 10000), dtype=torch.float32)\n",
    "bye = torch.rand((10000, 10000), dtype=torch.float32)\n",
    "hi = hi.to(cpu_device)\n",
    "bye = bye.to(cpu_device)\n",
    "\n",
    "ts = []\n",
    "for i in range(100):\n",
    "    t = time.perf_counter()\n",
    "    hi * bye\n",
    "    # print(\"dt: {}\".format(time.perf_counter() - t))\n",
    "    ts.append(time.perf_counter() - t)\n",
    "plt.plot(ts)"
   ]
  },
  {
   "cell_type": "markdown",
   "id": "b168777b-9c45-4f9a-a980-8b37ab98e7b7",
   "metadata": {},
   "source": [
    "# Read data"
   ]
  },
  {
   "cell_type": "code",
   "execution_count": 2,
   "id": "77b8b6a5-c416-4cc3-9efc-1546f33d03cf",
   "metadata": {},
   "outputs": [
    {
     "name": "stdout",
     "output_type": "stream",
     "text": [
      "['butterly', 'gawne', 'mouch', 'nicolaizeau', 'falson']\n",
      "197029\n"
     ]
    }
   ],
   "source": [
    "names = open('compiled_names.txt', 'r').read().splitlines()\n",
    "\n",
    "print(names[:5])\n",
    "print(len(names))"
   ]
  },
  {
   "cell_type": "code",
   "execution_count": 3,
   "id": "9e1be5b5-3e34-45fd-88ab-41b165eb918f",
   "metadata": {},
   "outputs": [],
   "source": [
    "import matplotlib.pyplot as plt\n",
    "\n",
    "import torch\n",
    "import torch.nn as nn\n",
    "import torch.nn.functional as F\n",
    "\n",
    "import time\n",
    "import wandb"
   ]
  },
  {
   "cell_type": "code",
   "execution_count": 4,
   "id": "72bc7543-64af-492d-98a5-7adb6c13f09f",
   "metadata": {},
   "outputs": [],
   "source": [
    "device = torch.device(\"mps\")"
   ]
  },
  {
   "cell_type": "code",
   "execution_count": 5,
   "id": "b26e94e2-6824-4c78-9d37-23ac3cacb0c1",
   "metadata": {},
   "outputs": [],
   "source": [
    "## functions to convert chars to int and inverse\n",
    "\n",
    "chars = sorted(list(set(''.join(names))))\n",
    "stoi = {s:i+1 for i,s in enumerate(chars)}\n",
    "\n",
    "# . is both \"before start\" in X, and \"im done\" for Y\n",
    "stoi['.'] = 0\n",
    "itos = {s:i for i,s in stoi.items()}\n",
    "\n",
    "num_char = len(stoi)\n",
    "# for s, i in stoi.items():\n",
    "#     print(\"'{}' --> {} --> '{}'\".format(s, stoi[s], itos[stoi[s]]))"
   ]
  },
  {
   "cell_type": "code",
   "execution_count": 6,
   "id": "091f8d94-8557-46ba-a228-688999eefed2",
   "metadata": {},
   "outputs": [],
   "source": [
    "window = 3\n",
    "\n",
    "def build_dataset(words, device):\n",
    "    x, y = [], []\n",
    "\n",
    "    for word in words:\n",
    "        for i, c in enumerate(word + '.'):\n",
    "            mini_x = []\n",
    "            for w in reversed(range(1, window+1)):\n",
    "                if i - w >= 0:\n",
    "                    mini_x.append(stoi[word[i-w]])\n",
    "                else:\n",
    "                    mini_x.append(stoi['.'])\n",
    "\n",
    "            x.append(mini_x)\n",
    "            y.append(stoi[c])\n",
    "            \n",
    "    return torch.tensor(x, device=device), torch.tensor(y, device=device)\n",
    "\n",
    "# for i in range(len(y)): \n",
    "#     print(\"{} --> {}\".format([itos[c] for c in x[i]], itos[y[i]]))\n",
    "        \n",
    "# x = torch.tensor(x, dtype=torch.int64)\n",
    "# y = torch.tensor(y, dtype=torch.int64)"
   ]
  },
  {
   "cell_type": "code",
   "execution_count": 7,
   "id": "7b98a788-ab4b-41ef-bf0d-32277971a8ce",
   "metadata": {},
   "outputs": [],
   "source": [
    "import random\n",
    "random.seed(42)\n",
    "random.shuffle(names)\n",
    "n1 = int(0.8*len(names))\n",
    "n2 = int(0.9*len(names))\n",
    "\n",
    "Xtr, Ytr = build_dataset(names[:n1], device)\n",
    "Xdev, Ydev = build_dataset(names[n1:n2], device)\n",
    "Xte, Yte = build_dataset(names[n2:], device)"
   ]
  },
  {
   "cell_type": "markdown",
   "id": "2ee158a6-1eb5-4382-b54e-29ef72279c67",
   "metadata": {},
   "source": [
    "# Setup network"
   ]
  },
  {
   "cell_type": "code",
   "execution_count": 8,
   "id": "d803946a-6369-4b46-8575-69b8d13a6794",
   "metadata": {},
   "outputs": [],
   "source": [
    "class MLP(nn.Module):\n",
    "    def __init__(self, num_char, hidden_nodes, embeddings, window, num_layers):   \n",
    "        super(MLP, self).__init__()\n",
    "        \n",
    "        self.window = window\n",
    "        self.hidden_nodes = hidden_nodes\n",
    "        self.embeddings = embeddings\n",
    "        \n",
    "        self.C = nn.Parameter(torch.randn((num_char, embeddings)) * 0.1, requires_grad=True)\n",
    "        \n",
    "        self.first = nn.Linear(embeddings*window, hidden_nodes)\n",
    "\n",
    "        self.layers = nn.Sequential()\n",
    "        for i in range(num_layers):\n",
    "            self.layers = self.layers.extend(nn.Sequential(\n",
    "                nn.Linear(hidden_nodes, hidden_nodes, bias=False),\n",
    "                nn.BatchNorm1d(hidden_nodes),\n",
    "                nn.Tanh()))\n",
    "\n",
    "        self.final = nn.Linear(hidden_nodes, num_char)\n",
    "        \n",
    "    def forward(self, x):\n",
    "        x = self.C[x]\n",
    "        x = self.first(x.view(-1, self.window*self.embeddings))\n",
    "        \n",
    "        x = self.layers(x)\n",
    "\n",
    "        x = self.final(x)\n",
    "        return x\n"
   ]
  },
  {
   "cell_type": "code",
   "execution_count": 9,
   "id": "07412f26-be8a-4e94-859a-70488833964f",
   "metadata": {},
   "outputs": [
    {
     "data": {
      "text/plain": [
       "==========================================================================================\n",
       "Layer (type:depth-idx)                   Output Shape              Param #\n",
       "==========================================================================================\n",
       "MLP                                      [64, 30]                  300\n",
       "├─Linear: 1-1                            [64, 100]                 3,100\n",
       "├─Sequential: 1-2                        [64, 100]                 --\n",
       "│    └─Linear: 2-1                       [64, 100]                 10,000\n",
       "│    └─BatchNorm1d: 2-2                  [64, 100]                 200\n",
       "│    └─Tanh: 2-3                         [64, 100]                 --\n",
       "│    └─Linear: 2-4                       [64, 100]                 10,000\n",
       "│    └─BatchNorm1d: 2-5                  [64, 100]                 200\n",
       "│    └─Tanh: 2-6                         [64, 100]                 --\n",
       "│    └─Linear: 2-7                       [64, 100]                 10,000\n",
       "│    └─BatchNorm1d: 2-8                  [64, 100]                 200\n",
       "│    └─Tanh: 2-9                         [64, 100]                 --\n",
       "│    └─Linear: 2-10                      [64, 100]                 10,000\n",
       "│    └─BatchNorm1d: 2-11                 [64, 100]                 200\n",
       "│    └─Tanh: 2-12                        [64, 100]                 --\n",
       "│    └─Linear: 2-13                      [64, 100]                 10,000\n",
       "│    └─BatchNorm1d: 2-14                 [64, 100]                 200\n",
       "│    └─Tanh: 2-15                        [64, 100]                 --\n",
       "├─Linear: 1-3                            [64, 30]                  3,030\n",
       "==========================================================================================\n",
       "Total params: 57,430\n",
       "Trainable params: 57,430\n",
       "Non-trainable params: 0\n",
       "Total mult-adds (M): 3.66\n",
       "==========================================================================================\n",
       "Input size (MB): 0.00\n",
       "Forward/backward pass size (MB): 0.58\n",
       "Params size (MB): 0.23\n",
       "Estimated Total Size (MB): 0.81\n",
       "=========================================================================================="
      ]
     },
     "execution_count": 9,
     "metadata": {},
     "output_type": "execute_result"
    }
   ],
   "source": [
    "from torchinfo import summary\n",
    "test_mlp = MLP(30, 100, 10, 3, 5)\n",
    "test_mlp.to(device)\n",
    "summary(test_mlp, input_size=(64, 3), dtypes=[torch.int64])"
   ]
  },
  {
   "cell_type": "code",
   "execution_count": 10,
   "id": "af946ffb-4d37-44af-9532-ef6d14b6765d",
   "metadata": {
    "tags": []
   },
   "outputs": [
    {
     "name": "stdout",
     "output_type": "stream",
     "text": [
      "      0/ 100000: dt: 0.31 dev_loss: 3.3975 loss: 3.4986\n",
      "   5000/ 100000: dt: 117.20 dev_loss: 2.5375 loss: 2.4150\n",
      "  10000/ 100000: dt: 235.23 dev_loss: 2.3545 loss: 2.5566\n",
      "  15000/ 100000: dt: 351.66 dev_loss: 2.2355 loss: 2.4666\n",
      "  20000/ 100000: dt: 469.67 dev_loss: 2.5451 loss: 2.2870\n",
      "  25000/ 100000: dt: 585.83 dev_loss: 2.3763 loss: 2.1144\n",
      "  30000/ 100000: dt: 702.73 dev_loss: 2.2982 loss: 2.2272\n",
      "  35000/ 100000: dt: 818.18 dev_loss: 2.1364 loss: 2.5409\n",
      "  40000/ 100000: dt: 931.51 dev_loss: 2.2945 loss: 2.6470\n",
      "  45000/ 100000: dt: 1045.28 dev_loss: 2.2751 loss: 2.3023\n",
      "  50000/ 100000: dt: 1159.17 dev_loss: 2.3062 loss: 2.4834\n"
     ]
    },
    {
     "ename": "KeyboardInterrupt",
     "evalue": "",
     "output_type": "error",
     "traceback": [
      "\u001b[0;31m---------------------------------------------------------------------------\u001b[0m",
      "\u001b[0;31mKeyboardInterrupt\u001b[0m                         Traceback (most recent call last)",
      "Cell \u001b[0;32mIn [10], line 44\u001b[0m\n\u001b[1;32m     42\u001b[0m \u001b[38;5;28;01mwith\u001b[39;00m torch\u001b[38;5;241m.\u001b[39mno_grad():\n\u001b[1;32m     43\u001b[0m     \u001b[38;5;28;01mfor\u001b[39;00m p \u001b[38;5;129;01min\u001b[39;00m mlp\u001b[38;5;241m.\u001b[39mparameters():\n\u001b[0;32m---> 44\u001b[0m         p \u001b[38;5;241m+\u001b[39m\u001b[38;5;241m=\u001b[39m \u001b[38;5;241m-\u001b[39mlr \u001b[38;5;241m*\u001b[39m p\u001b[38;5;241m.\u001b[39mgrad\n\u001b[1;32m     46\u001b[0m steps\u001b[38;5;241m.\u001b[39mappend(i)\n\u001b[1;32m     47\u001b[0m losses\u001b[38;5;241m.\u001b[39mappend(loss\u001b[38;5;241m.\u001b[39mitem())\n",
      "\u001b[0;31mKeyboardInterrupt\u001b[0m: "
     ]
    }
   ],
   "source": [
    "hidden_nodes = 200\n",
    "embeddings = 10\n",
    "num_layers = 10\n",
    "\n",
    "mlp = MLP(num_char, hidden_nodes, embeddings, window, num_layers)\n",
    "mlp.to(device)\n",
    "mlp.train(mode=True)\n",
    "\n",
    "steps = []\n",
    "losses = []\n",
    "dev_steps = []\n",
    "dev_losses = []\n",
    "batch_size = 64\n",
    "max_steps = 100000\n",
    "# max_steps = 1\n",
    "start_time = time.perf_counter()\n",
    "\n",
    "for i in range(max_steps+1):\n",
    "    # sample from training set\n",
    "    sample_idx = torch.randint(len(Ytr), size=(batch_size,1))\n",
    "    \n",
    "    # forward\n",
    "    y_pred = mlp(Xtr[sample_idx])\n",
    "    loss = F.cross_entropy(y_pred, torch.squeeze(Ytr[sample_idx]))\n",
    "    \n",
    "    # abs\n",
    "    mlp.zero_grad()\n",
    "    \n",
    "    loss.backward()\n",
    "    \n",
    "    # set learning rate\n",
    "    if i < 20000:\n",
    "        lr = 0.1\n",
    "    elif i < 40000:\n",
    "        lr = 0.05\n",
    "    elif i < 75000:\n",
    "        lr = 0.01\n",
    "    else:\n",
    "        lr = 0.005\n",
    "        \n",
    "    # update\n",
    "    with torch.no_grad():\n",
    "        for p in mlp.parameters():\n",
    "            p += -lr * p.grad\n",
    "        \n",
    "    steps.append(i)\n",
    "    losses.append(loss.item())\n",
    "    \n",
    "    if i % 5000 == 0: # print every once in a while\n",
    "        dev_loss = 0\n",
    "        with torch.no_grad():\n",
    "            dev_idx = torch.randint(len(Ydev), size=(batch_size,1))\n",
    "            dev_loss = F.cross_entropy(mlp(Xdev[dev_idx]), \n",
    "                                       torch.squeeze(Ydev[dev_idx]))\n",
    "            \n",
    "        current_time = time.perf_counter()\n",
    "        dt = current_time - start_time\n",
    "        print(f'{i:7d}/{max_steps:7d}: dt: {dt:.2f} dev_loss: {dev_loss.item():.4f} loss: {loss.item():.4f}')\n",
    "        \n",
    "        dev_losses.append(dev_loss.item())\n",
    "        dev_steps.append(i)\n",
    "\n",
    "current_time = time.perf_counter()\n",
    "dt = current_time - start_time\n",
    "print(\"total training time: {}\".format(dt))"
   ]
  },
  {
   "cell_type": "code",
   "execution_count": 21,
   "id": "8fb1f65c-4df9-4b72-8901-790085fe6007",
   "metadata": {},
   "outputs": [
    {
     "name": "stdout",
     "output_type": "stream",
     "text": [
      "embeddings: 10\n",
      "hidden_nodes: 200\n",
      "num_char: 30\n",
      "num_layers: 10\n",
      "stoi:\n",
      "  ' ': 1\n",
      "  '''': 2\n",
      "  '-': 3\n",
      "  .: 0\n",
      "  a: 4\n",
      "  b: 5\n",
      "  c: 6\n",
      "  d: 7\n",
      "  e: 8\n",
      "  f: 9\n",
      "  g: 10\n",
      "  h: 11\n",
      "  i: 12\n",
      "  j: 13\n",
      "  k: 14\n",
      "  l: 15\n",
      "  m: 16\n",
      "  n: 17\n",
      "  o: 18\n",
      "  p: 19\n",
      "  q: 20\n",
      "  r: 21\n",
      "  s: 22\n",
      "  t: 23\n",
      "  u: 24\n",
      "  v: 25\n",
      "  w: 26\n",
      "  x: 27\n",
      "  y: 28\n",
      "  z: 29\n",
      "window: 3\n",
      "\n",
      "{' ': 1, \"'\": 2, '-': 3, 'a': 4, 'b': 5, 'c': 6, 'd': 7, 'e': 8, 'f': 9, 'g': 10, 'h': 11, 'i': 12, 'j': 13, 'k': 14, 'l': 15, 'm': 16, 'n': 17, 'o': 18, 'p': 19, 'q': 20, 'r': 21, 's': 22, 't': 23, 'u': 24, 'v': 25, 'w': 26, 'x': 27, 'y': 28, 'z': 29, '.': 0}\n"
     ]
    }
   ],
   "source": [
    "import yaml\n",
    "\n",
    "config = {\"num_char\": num_char,\n",
    "          \"hidden_nodes\": hidden_nodes,\n",
    "          \"embeddings\": embeddings,\n",
    "          \"window\": window,\n",
    "          \"num_layers\": num_layers,\n",
    "          \"stoi\": stoi}\n",
    "\n",
    "with open('torch_mlp_config.yaml', 'w') as file:\n",
    "    yaml.dump(config, file)\n",
    "    \n",
    "print(open('torch_mlp_config.yaml').read())"
   ]
  },
  {
   "cell_type": "code",
   "execution_count": 23,
   "id": "fb25ce55-105d-4f52-8c9a-64cb93c352d4",
   "metadata": {},
   "outputs": [],
   "source": [
    "# Need to save w/ cpu because spaces doesn't support device('mps')\n",
    "torch.save(mlp.to(torch.device(\"cpu\")).state_dict(), \"mlp_weights.pt\")"
   ]
  },
  {
   "cell_type": "markdown",
   "id": "49471b42-2fc0-4d88-bdfb-e51d4e746a21",
   "metadata": {
    "jupyter": {
     "source_hidden": true
    },
    "tags": []
   },
   "source": [
    "# Get ideal learning rate"
   ]
  },
  {
   "cell_type": "code",
   "execution_count": 170,
   "id": "736ef4cb-b3e1-456e-a5ac-e96ca0f08f14",
   "metadata": {
    "collapsed": true,
    "jupyter": {
     "outputs_hidden": true,
     "source_hidden": true
    },
    "tags": []
   },
   "outputs": [
    {
     "data": {
      "text/plain": [
       "[<matplotlib.lines.Line2D at 0x7fc048ff8100>]"
      ]
     },
     "execution_count": 170,
     "metadata": {},
     "output_type": "execute_result"
    },
    {
     "data": {
      "image/png": "[encoded data removed]",
      "text/plain": [
       "<Figure size 640x480 with 1 Axes>"
      ]
     },
     "metadata": {},
     "output_type": "display_data"
    }
   ],
   "source": [
    "## test to get ideal learning rate\n",
    "hidden_nodes = 200\n",
    "embeddings = 10\n",
    "num_layers = 10\n",
    "\n",
    "mlp = MLP(num_char, hidden_nodes, embeddings, window, num_layers)\n",
    "mlp.to(device)\n",
    "mlp.train(mode=True)\n",
    "\n",
    "lr_log = []\n",
    "lre_log = []\n",
    "loss_log = []\n",
    "batch_size = 64\n",
    "max_steps = 100000\n",
    "# max_steps = 1\n",
    "lres = torch.linspace(-4, 2, 1000)\n",
    "\n",
    "for lre in reversed(lres):\n",
    "    mlp = MLP(num_char, hidden_nodes, embeddings, window, num_layers)\n",
    "    mlp.to(device)\n",
    "    mlp.train(mode=True)\n",
    "    lr = 10**lre\n",
    "    for i in range(5):\n",
    "        # sample from training set\n",
    "        sample_idx = torch.randint(len(Ytr), size=(batch_size,1))\n",
    "\n",
    "        # forward\n",
    "        y_pred = mlp(Xtr[sample_idx])\n",
    "        loss = F.cross_entropy(y_pred, torch.squeeze(Ytr[sample_idx]))\n",
    "\n",
    "        # abs\n",
    "        mlp.zero_grad()\n",
    "\n",
    "        loss.backward()\n",
    "        # update\n",
    "        \n",
    "        with torch.no_grad():\n",
    "            for p in mlp.parameters():\n",
    "                p += -lr * p.grad\n",
    "\n",
    "    lr_log.append(lr.item())\n",
    "    lre_log.append(lre.item())\n",
    "    loss_log.append(loss.item())\n",
    "    \n",
    "plt.plot(lre_log, loss_log)"
   ]
  },
  {
   "cell_type": "code",
   "execution_count": 173,
   "id": "6c7bcb4b-e4f5-4219-ab2c-15751be22455",
   "metadata": {
    "collapsed": true,
    "jupyter": {
     "outputs_hidden": true,
     "source_hidden": true
    },
    "tags": []
   },
   "outputs": [
    {
     "name": "stdout",
     "output_type": "stream",
     "text": [
      "[2.0, 1.9939939975738525, 1.987987995147705, 1.9819819927215576, 1.9759759902954102, 1.9699699878692627, 1.9639639854431152, 1.9579579830169678, 1.9519519805908203, 1.9459459781646729]\n",
      "[inf, inf, inf, inf, inf, inf, inf, inf, inf, inf]\n"
     ]
    }
   ],
   "source": [
    "print(lre_log[:10])\n",
    "print(loss_log[:10])"
   ]
  },
  {
   "cell_type": "code",
   "execution_count": 184,
   "id": "4d5fc58f-0558-4381-a90a-9a943f17ead9",
   "metadata": {
    "tags": []
   },
   "outputs": [
    {
     "data": {
      "text/plain": [
       "[<matplotlib.lines.Line2D at 0x7fc01a3c61c0>]"
      ]
     },
     "execution_count": 184,
     "metadata": {},
     "output_type": "execute_result"
    },
    {
     "data": {
      "image/png": "[encoded data removed]",
      "text/plain": [
       "<Figure size 640x480 with 1 Axes>"
      ]
     },
     "metadata": {},
     "output_type": "display_data"
    }
   ],
   "source": [
    "plt.plot(steps, losses, dev_steps, dev_losses)"
   ]
  },
  {
   "cell_type": "code",
   "execution_count": null,
   "id": "83f0eaf7-40ed-4425-b781-a17870dad1b1",
   "metadata": {
    "tags": []
   },
   "outputs": [],
   "source": [
    "for p in mlp.parameters():\n",
    "    y, x = torch.histogram(p.to(torch.device('cpu')), density=True)\n",
    "    plt.plot(x[:-1].detach(), y.detach())"
   ]
  },
  {
   "cell_type": "code",
   "execution_count": 186,
   "id": "7fe8828e-960b-4884-a0ee-dc1c6b190961",
   "metadata": {},
   "outputs": [
    {
     "name": "stdout",
     "output_type": "stream",
     "text": [
      "chel zone.\n",
      "chel zodepuna.\n",
      "chel zieler.\n",
      "chel zakorner.\n",
      "chel zuroney.\n",
      "chel zudetzrot.\n",
      "chel zul.\n",
      "chel zan.\n",
      "chel zier.\n",
      "chel zacchud.\n",
      "chel zakwailles.\n",
      "chel zanemont.\n",
      "chel zouilahous.\n",
      "chel zavis.\n",
      "chel zadaggfkin.\n",
      "chel zan.\n",
      "chel zowski.\n",
      "chel zaigelbrin.\n",
      "chel zoeckedeyon.\n",
      "chel zmuno.\n"
     ]
    }
   ],
   "source": [
    "# sample from the model\n",
    "for _ in range(20):\n",
    "    \n",
    "    out = []\n",
    "    context = [0] * window # initialize with all ...\n",
    "    out.append(stoi['c'])\n",
    "    out.append(stoi['h'])\n",
    "    out.append(stoi['e'])\n",
    "    out.append(stoi['l'])\n",
    "    out.append(stoi[' '])\n",
    "    out.append(stoi['z'])\n",
    "    context = context[1:] + [stoi['c']]\n",
    "    context = context[1:] + [stoi['h']]\n",
    "    context = context[1:] + [stoi['e']]\n",
    "    context = context[1:] + [stoi['l']]\n",
    "    context = context[1:] + [stoi[' ']]\n",
    "    context = context[1:] + [stoi['z']]\n",
    "    while True:\n",
    "        mlp.eval()\n",
    "        # mlp.train(mode=False)\n",
    "        logits = mlp(context)\n",
    "        mlp.train()\n",
    "        # emb = C[torch.tensor([context])] # (1,block_size,d)\n",
    "        # h = torch.tanh(emb.view(1, -1) @ W1 + b1)\n",
    "        # logits = h @ W2 + b2\n",
    "        probs = F.softmax(logits, dim=1)\n",
    "        ix = torch.multinomial(probs, num_samples=1).item()\n",
    "        context = context[1:] + [ix]\n",
    "        out.append(ix)\n",
    "        if ix == 0:\n",
    "            break\n",
    "    \n",
    "    print(''.join(itos[i] for i in out))"
   ]
  },
  {
   "cell_type": "code",
   "execution_count": 195,
   "id": "4f38b102-22c6-4cd1-baba-a0a452cd655b",
   "metadata": {},
   "outputs": [
    {
     "name": "stdout",
     "output_type": "stream",
     "text": [
      "Running on local URL:  http://127.0.0.1:7865\n",
      "\n",
      "To create a public link, set `share=True` in `launch()`.\n"
     ]
    },
    {
     "data": {
      "text/html": [
       "<div><iframe src=\"http://127.0.0.1:7865/\" width=\"100%\" height=\"500\" allow=\"autoplay; camera; microphone; clipboard-read; clipboard-write;\" frameborder=\"0\" allowfullscreen></iframe></div>"
      ],
      "text/plain": [
       "<IPython.core.display.HTML object>"
      ]
     },
     "metadata": {},
     "output_type": "display_data"
    },
    {
     "data": {
      "text/plain": []
     },
     "execution_count": 195,
     "metadata": {},
     "output_type": "execute_result"
    }
   ],
   "source": [
    "import gradio as gr\n",
    "\n",
    "def generate_names(name_start, number_of_names):\n",
    "    names = \"\"\n",
    "    for _ in range((int)(number_of_names)):\n",
    "    \n",
    "        # Initialize name with user input\n",
    "        name = \"\"\n",
    "        context = [0] * window\n",
    "        for c in name_start.lower():\n",
    "            name += c\n",
    "            context = context[1:] + [stoi[c]]\n",
    "\n",
    "        # Run inference to finish off the name\n",
    "        while True:\n",
    "            mlp.eval()\n",
    "            logits = mlp(context)\n",
    "            mlp.train()\n",
    "\n",
    "            probs = F.softmax(logits, dim=1)\n",
    "            ix = torch.multinomial(probs, num_samples=1).item()\n",
    "\n",
    "            context = context[1:] + [ix]\n",
    "            name += itos[ix]\n",
    "            if ix == 0:\n",
    "                break\n",
    "            \n",
    "        names += name + \"\\n\"\n",
    "        \n",
    "    return names\n",
    "\n",
    "demo = gr.Interface(\n",
    "    fn=generate_names,\n",
    "    inputs=[\n",
    "        gr.Textbox(placeholder=\"Start name with...\"),\n",
    "        \"number\"\n",
    "    ],\n",
    "    outputs=\"text\",\n",
    ")\n",
    "demo.launch()"
   ]
  },
  {
   "cell_type": "code",
   "execution_count": null,
   "id": "2635f5de-cc65-4c2e-b2eb-650a71650aff",
   "metadata": {},
   "outputs": [],
   "source": []
  }
 ],
 "metadata": {
  "kernelspec": {
   "display_name": "Python 3 (ipykernel)",
   "language": "python",
   "name": "python3"
  },
  "language_info": {
   "codemirror_mode": {
    "name": "ipython",
    "version": 3
   },
   "file_extension": ".py",
   "mimetype": "text/x-python",
   "name": "python",
   "nbconvert_exporter": "python",
   "pygments_lexer": "ipython3",
   "version": "3.9.13"
  }
 },
 "nbformat": 4,
 "nbformat_minor": 5
}
