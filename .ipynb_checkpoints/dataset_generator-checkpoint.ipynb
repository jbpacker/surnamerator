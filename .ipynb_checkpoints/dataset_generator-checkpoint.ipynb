{
 "cells": [
  {
   "cell_type": "code",
   "execution_count": 150,
   "id": "3789e4c9-a4de-4136-9a93-b254dedca27a",
   "metadata": {},
   "outputs": [],
   "source": [
    "import pandas as pd"
   ]
  },
  {
   "cell_type": "code",
   "execution_count": 151,
   "id": "aafa436f-65a3-4b5b-8de6-f2d1d58a9ca0",
   "metadata": {},
   "outputs": [],
   "source": [
    "names = []"
   ]
  },
  {
   "cell_type": "code",
   "execution_count": 152,
   "id": "012ddfb0-f525-4cd5-9283-332dd7caa065",
   "metadata": {},
   "outputs": [],
   "source": [
    "## Source 1: fivethirtyeight.csv\n",
    "# https://github.com/fivethirtyeight/data/tree/master/most-common-name\n",
    "five_thirty_eight_names = pd.read_csv('fivethirtyeight.csv',\n",
    "                                      sep='[:, |_]',\n",
    "                                      engine='python')\n",
    "\n",
    "\n",
    "five_thirty_eight_names.dropna(subset=['name'], inplace=True)\n",
    "\n",
    "names.extend(name.lower() for name in five_thirty_eight_names['name'])"
   ]
  },
  {
   "cell_type": "code",
   "execution_count": 153,
   "id": "8ecacf11-e98c-4be9-96cd-400f95d22e85",
   "metadata": {},
   "outputs": [],
   "source": [
    "## Source 2: data.csv \n",
    "# https://data.world/crowdflower/transc-names-from-handwriting\n",
    "data_world_names = pd.read_csv('data_world.csv',\n",
    "                               sep=',',\n",
    "                               engine='python')\n",
    "\n",
    "data_world_names.dropna(subset=['transcription'], inplace=True)\n",
    "\n",
    "for name in data_world_names[data_world_names.first_or_last == 'last']['transcription']:\n",
    "    # some of the raw data has the name duplicated on multiple lines\n",
    "    names.append(name.split('\\n')[0].lower())"
   ]
  },
  {
   "cell_type": "code",
   "execution_count": 154,
   "id": "1d7ebadd-c5dc-4f8d-8f07-3212b89366cb",
   "metadata": {},
   "outputs": [],
   "source": [
    "## Source 3: census/\n",
    "# https://www.census.gov/topics/population/genealogy/data/2010_surnames.html\n",
    "\n",
    "census_names = pd.read_csv('census/names/Names_2010Census.csv',\n",
    "                           sep=',',\n",
    "                           engine='python')\n",
    "census_names.dropna(subset=['name'], inplace=True)\n",
    "census_names.drop(census_names.tail(1).index, inplace=True) # Drops the 'ALL OTHER NAMES' row\n",
    "\n",
    "names.extend(name.lower() for name in census_names['name'])"
   ]
  },
  {
   "cell_type": "code",
   "execution_count": 155,
   "id": "799a3850-2c6a-4272-a500-0f53992db38b",
   "metadata": {},
   "outputs": [],
   "source": [
    "## Remove duplicates\n",
    "names = [*set(names)]"
   ]
  },
  {
   "cell_type": "code",
   "execution_count": 156,
   "id": "f8e0ea59-797f-4c23-a648-b91edec3e8a9",
   "metadata": {},
   "outputs": [],
   "source": [
    "## Write output list of names, so that this doesn't have to be repeated\n",
    "import csv \n",
    "file = open('compiled_names.txt', 'w+', newline ='') \n",
    "with file:\n",
    "    write = csv.writer(file) \n",
    "    for name in names:\n",
    "        write.writerow([name])"
   ]
  },
  {
   "cell_type": "code",
   "execution_count": null,
   "id": "ab703f36-43b4-4b81-b600-a1d3adeb2405",
   "metadata": {},
   "outputs": [],
   "source": []
  }
 ],
 "metadata": {
  "kernelspec": {
   "display_name": "Python 3 (ipykernel)",
   "language": "python",
   "name": "python3"
  },
  "language_info": {
   "codemirror_mode": {
    "name": "ipython",
    "version": 3
   },
   "file_extension": ".py",
   "mimetype": "text/x-python",
   "name": "python",
   "nbconvert_exporter": "python",
   "pygments_lexer": "ipython3",
   "version": "3.9.13"
  },
  "toc-showcode": false
 },
 "nbformat": 4,
 "nbformat_minor": 5
}
