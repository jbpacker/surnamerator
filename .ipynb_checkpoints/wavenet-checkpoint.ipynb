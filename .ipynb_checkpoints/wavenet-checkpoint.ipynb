{
 "cells": [
  {
   "cell_type": "code",
   "execution_count": 1,
   "id": "5ddeb609-583d-4440-a1e3-af628c55116f",
   "metadata": {},
   "outputs": [],
   "source": [
    "import matplotlib.pyplot as plt\n",
    "\n",
    "import torch\n",
    "import torch.nn as nn\n",
    "import torch.nn.functional as F\n",
    "\n",
    "import time\n",
    "import wandb\n",
    "\n",
    "m1 = torch.device(\"mps\")\n",
    "cpu = torch.device(\"cpu\")"
   ]
  },
  {
   "cell_type": "code",
   "execution_count": 2,
   "id": "81fb35e4-151f-452e-aa1d-91cdcda4d1e1",
   "metadata": {},
   "outputs": [],
   "source": [
    "names = open('compiled_names.txt', 'r').read().splitlines()"
   ]
  },
  {
   "cell_type": "code",
   "execution_count": 3,
   "id": "cb83b7f9-09a3-464c-a525-54ce2716d9d7",
   "metadata": {},
   "outputs": [],
   "source": [
    "## functions to convert chars to int and inverse\n",
    "\n",
    "chars = sorted(list(set(''.join(names))))\n",
    "stoi = {s:i+1 for i,s in enumerate(chars)}\n",
    "\n",
    "# . is both \"before start\" in X, and \"im done\" for Y\n",
    "stoi['.'] = 0\n",
    "itos = {s:i for i,s in stoi.items()}\n",
    "\n",
    "num_char = len(stoi)"
   ]
  },
  {
   "cell_type": "code",
   "execution_count": 4,
   "id": "5c2e87f3-10fa-4f03-a57f-c066c521ad3c",
   "metadata": {},
   "outputs": [],
   "source": [
    "window = 8\n",
    "\n",
    "def build_dataset(words, device):\n",
    "    x, y = [], []\n",
    "\n",
    "    for word in words:\n",
    "        for i, c in enumerate(word + '.'):\n",
    "            mini_x = []\n",
    "            for w in reversed(range(1, window+1)):\n",
    "                if i - w >= 0:\n",
    "                    mini_x.append(stoi[word[i-w]])\n",
    "                else:\n",
    "                    mini_x.append(stoi['.'])\n",
    "\n",
    "            x.append(mini_x)\n",
    "            y.append(stoi[c])\n",
    "            \n",
    "    return torch.tensor(x, device=device), torch.tensor(y, device=device)"
   ]
  },
  {
   "cell_type": "code",
   "execution_count": 5,
   "id": "b89c3ecc-9db3-4c92-82db-c7dfec773de3",
   "metadata": {},
   "outputs": [],
   "source": [
    "import random\n",
    "random.seed(42)\n",
    "random.shuffle(names)\n",
    "n1 = int(0.8*len(names))\n",
    "n2 = int(0.9*len(names))\n",
    "\n",
    "Xtr, Ytr = build_dataset(names[:n1], device=cpu)\n",
    "Xdev, Ydev = build_dataset(names[n1:n2], device=cpu)\n",
    "Xte, Yte = build_dataset(names[n2:], device=cpu)"
   ]
  },
  {
   "cell_type": "code",
   "execution_count": 6,
   "id": "a8db3d92-c1c0-41eb-b745-d34acbe34875",
   "metadata": {},
   "outputs": [],
   "source": [
    "class MLP(nn.Module):\n",
    "    def __init__(self, num_char, hidden_nodes, embeddings, window, num_layers):   \n",
    "        super(MLP, self).__init__()\n",
    "        \n",
    "        self.window = window\n",
    "        self.hidden_nodes = hidden_nodes\n",
    "        self.embeddings = embeddings        \n",
    "        \n",
    "        self.layers = nn.Sequential(\n",
    "            nn.Embedding(num_char, embeddings),         # [batch, window] --> [batch, window, embeddings]\n",
    "            nn.Flatten(),                               # [batch, window, embeddings] --> [batch, window*embeddings]\n",
    "            nn.Linear(embeddings*window, hidden_nodes), # [batch, window*embeddings] --> [batch, hidden_nodes]\n",
    "            \n",
    "        )\n",
    "        for i in range(num_layers):\n",
    "            if i == 0:\n",
    "                nodes = window\n",
    "            else:\n",
    "                nodes = hidden_nodes\n",
    "                \n",
    "            self.layers = self.layers.extend(nn.Sequential(\n",
    "                nn.Linear(hidden_nodes, hidden_nodes, bias=False),\n",
    "                nn.BatchNorm1d(hidden_nodes),\n",
    "                nn.Tanh()))\n",
    "            \n",
    "        self.layers = self.layers.extend(nn.Sequential(\n",
    "            nn.Linear(hidden_nodes, num_char)\n",
    "        ))\n",
    "        \n",
    "        with torch.no_grad():\n",
    "            self.layers[-1].weight *= 0.1           \n",
    "        \n",
    "    def forward(self, x):\n",
    "        return self.layers(x)"
   ]
  },
  {
   "cell_type": "code",
   "execution_count": 7,
   "id": "a713fce4-dc4f-4294-8c80-a18f21d5dc3e",
   "metadata": {
    "jupyter": {
     "source_hidden": true
    },
    "tags": []
   },
   "outputs": [
    {
     "ename": "NameError",
     "evalue": "name 'embeddings' is not defined",
     "output_type": "error",
     "traceback": [
      "\u001b[0;31m---------------------------------------------------------------------------\u001b[0m",
      "\u001b[0;31mNameError\u001b[0m                                 Traceback (most recent call last)",
      "Cell \u001b[0;32mIn [7], line 2\u001b[0m\n\u001b[1;32m      1\u001b[0m in_line_model \u001b[38;5;241m=\u001b[39m nn\u001b[38;5;241m.\u001b[39mSequential(\n\u001b[0;32m----> 2\u001b[0m     nn\u001b[38;5;241m.\u001b[39mEmbedding(num_char, \u001b[43membeddings\u001b[49m),\n\u001b[1;32m      3\u001b[0m     nn\u001b[38;5;241m.\u001b[39mFlatten(), \n\u001b[1;32m      4\u001b[0m     nn\u001b[38;5;241m.\u001b[39mLinear(embeddings \u001b[38;5;241m*\u001b[39m window, hidden_nodes, bias\u001b[38;5;241m=\u001b[39m\u001b[38;5;28;01mFalse\u001b[39;00m), \n\u001b[1;32m      5\u001b[0m     nn\u001b[38;5;241m.\u001b[39mBatchNorm1d(hidden_nodes), \n\u001b[1;32m      6\u001b[0m     nn\u001b[38;5;241m.\u001b[39mTanh(),\n\u001b[1;32m      7\u001b[0m     nn\u001b[38;5;241m.\u001b[39mLinear(hidden_nodes, num_char),\n\u001b[1;32m      8\u001b[0m )\n\u001b[1;32m     10\u001b[0m in_line_model\u001b[38;5;241m.\u001b[39mto(m1)\n\u001b[1;32m     12\u001b[0m \u001b[38;5;66;03m# parameter init\u001b[39;00m\n",
      "\u001b[0;31mNameError\u001b[0m: name 'embeddings' is not defined"
     ]
    }
   ],
   "source": [
    "in_line_model = nn.Sequential(\n",
    "    nn.Embedding(num_char, embeddings),\n",
    "    nn.Flatten(), \n",
    "    nn.Linear(embeddings * window, hidden_nodes, bias=False), \n",
    "    nn.BatchNorm1d(hidden_nodes), \n",
    "    nn.Tanh(),\n",
    "    nn.Linear(hidden_nodes, num_char),\n",
    ")\n",
    "\n",
    "in_line_model.to(m1)\n",
    "\n",
    "# parameter init\n",
    "with torch.no_grad():\n",
    "    in_line_model[-1].weight *= 0.1 # last layer make less confident\n",
    "\n",
    "print(sum(p.nelement() for p in in_line_model.parameters())) # number of parameters in total\n",
    "# for p in in_line_model.parameters():\n",
    "#     p.requires_grad = True\n"
   ]
  },
  {
   "cell_type": "code",
   "execution_count": null,
   "id": "71526931-3012-48a0-a22f-a97b72010e67",
   "metadata": {},
   "outputs": [],
   "source": [
    "# class Residual(nn.Module):\n",
    "#     def __init__(self):\n",
    "#         conv = nn.Conv1d(num_char, 100, kernel_size=1, stride=1, padding=0, dilation=1, dtype=torch.int32)\n",
    "        \n",
    "\n",
    "        \n",
    "#     def forward(self, x):\n",
    "#         residual = x\n",
    "#         x = conv(x)\n",
    "#         x = F.ReLU(x) + F.Tanh(x)\n",
    "#         self.skip = x.clone()\n",
    "#         x += residual\n",
    "#         return x\n",
    "\n",
    "class WaveNet(nn.Module):\n",
    "    def __init__(self, num_char, hidden_nodes, embeddings, window, num_layers):   \n",
    "        super(WaveNet, self).__init__()\n",
    "        \n",
    "        self.window = window\n",
    "        self.hidden_nodes = hidden_nodes\n",
    "        self.embeddings = embeddings        \n",
    "        \n",
    "        self.layers = nn.Sequential(\n",
    "            nn.Embedding(num_char, embeddings)\n",
    "        )\n",
    "        #     nn.Conv1d(window, hidden_nodes, kernel_size=2, stride=1, bias=False), nn.BatchNorm1d(hidden_nodes), nn.Tanh(),\n",
    "        #     nn.Conv1d(hidden_nodes, hidden_nodes, kernel_size=2, stride=1, bias=False), nn.BatchNorm1d(hidden_nodes), nn.Tanh(),\n",
    "        #     nn.Conv1d(hidden_nodes, hidden_nodes, kernel_size=2, stride=1, bias=False), nn.BatchNorm1d(hidden_nodes), nn.Tanh(),\n",
    "        #     nn.Flatten(),\n",
    "        #     nn.Linear(hidden_nodes*(embeddings-3), num_char)\n",
    "        # )\n",
    "        \n",
    "        for i in range(num_layers):\n",
    "            if i == 0:\n",
    "                nodes = window\n",
    "            else:\n",
    "                nodes = hidden_nodes\n",
    "                \n",
    "            self.layers = self.layers.extend(nn.Sequential(\n",
    "                nn.Conv1d(nodes, hidden_nodes, kernel_size=2, stride=1, bias=False),\n",
    "                nn.BatchNorm1d(hidden_nodes),\n",
    "                nn.Tanh()))\n",
    "            \n",
    "        self.layers = self.layers.extend(nn.Sequential(\n",
    "            nn.Flatten(),\n",
    "            nn.Linear(hidden_nodes*(embeddings-num_layers), num_char)\n",
    "        ))\n",
    "        \n",
    "    def forward(self, x):\n",
    "        return self.layers(x)"
   ]
  },
  {
   "cell_type": "code",
   "execution_count": 11,
   "id": "95e0eb20-fe52-4369-9821-777bc979da01",
   "metadata": {},
   "outputs": [
    {
     "name": "stdout",
     "output_type": "stream",
     "text": [
      "x in\ttorch.Size([5, 8])\n",
      "emb\ttorch.Size([5, 8, 10])\n",
      "conv1:\ttorch.Size([5, 64, 5])\n",
      "tanh1:\ttorch.Size([5, 64, 5])\n",
      "conv2:\ttorch.Size([5, 64, 5])\n",
      "conv3:\ttorch.Size([5, 64, 1])\n",
      "tanh3:\ttorch.Size([5, 64, 1])\n",
      "flat:\ttorch.Size([5, 64])\n"
     ]
    }
   ],
   "source": [
    "x_test = Xtr[:5]\n",
    "print(\"x in\\t\" + str(x_test.shape))\n",
    "emb = nn.Embedding(num_char, embeddings)(x_test)\n",
    "print(\"emb\\t\" + str (emb.shape))\n",
    "conv1 = nn.Conv1d(window, 64, kernel_size=2, stride=2, bias=False)(emb)\n",
    "print(\"conv1:\\t\" + str(conv1.shape))\n",
    "bn1 = nn.BatchNorm1d(64)(conv1)\n",
    "tanh1 = nn.Tanh()(bn1)\n",
    "print(\"tanh1:\\t\" + str(tanh1.shape))\n",
    "conv2 = nn.Conv1d(64, 64, kernel_size=2, stride=2, bias=False)(tanh1)\n",
    "print(\"conv2:\\t\" + str(conv1.shape))\n",
    "bn2 = nn.BatchNorm1d(64)(conv2)\n",
    "tanh2 = nn.Tanh()(bn2)\n",
    "conv3 = nn.Conv1d(64, 64, kernel_size=2, stride=1, bias=False)(tanh2)\n",
    "print(\"conv3:\\t\" + str(conv3.shape))\n",
    "bn3 = nn.BatchNorm1d(64)(conv3)\n",
    "tanh3 = nn.Tanh()(bn3)\n",
    "print(\"tanh3:\\t\" + str(tanh3.shape))\n",
    "flat = nn.Flatten()(tanh3)\n",
    "print(\"flat:\\t\" + str(flat.shape))"
   ]
  },
  {
   "cell_type": "code",
   "execution_count": 12,
   "id": "8764a0fe-4ea5-4ba0-952e-101388d3c78f",
   "metadata": {},
   "outputs": [
    {
     "name": "stdout",
     "output_type": "stream",
     "text": [
      "<bound method Module.parameters of WaveNet(\n",
      "  (layers): Sequential(\n",
      "    (0): Embedding(30, 10)\n",
      "    (1): Conv1d(8, 64, kernel_size=(2,), stride=(1,), bias=False)\n",
      "    (2): BatchNorm1d(64, eps=1e-05, momentum=0.1, affine=True, track_running_stats=True)\n",
      "    (3): Tanh()\n",
      "    (4): Conv1d(8, 64, kernel_size=(2,), stride=(1,), bias=False)\n",
      "    (5): BatchNorm1d(64, eps=1e-05, momentum=0.1, affine=True, track_running_stats=True)\n",
      "    (6): Tanh()\n",
      "    (7): Conv1d(8, 64, kernel_size=(2,), stride=(1,), bias=False)\n",
      "    (8): BatchNorm1d(64, eps=1e-05, momentum=0.1, affine=True, track_running_stats=True)\n",
      "    (9): Tanh()\n",
      "    (10): Flatten(start_dim=1, end_dim=-1)\n",
      "    (11): Linear(in_features=448, out_features=30, bias=True)\n",
      "  )\n",
      ")>\n"
     ]
    },
    {
     "ename": "RuntimeError",
     "evalue": "Given groups=1, weight of size [64, 8, 2], expected input[20, 64, 9] to have 8 channels, but got 64 channels instead",
     "output_type": "error",
     "traceback": [
      "\u001b[0;31m---------------------------------------------------------------------------\u001b[0m",
      "\u001b[0;31mRuntimeError\u001b[0m                              Traceback (most recent call last)",
      "Cell \u001b[0;32mIn [12], line 17\u001b[0m\n\u001b[1;32m     14\u001b[0m test_x \u001b[38;5;241m=\u001b[39m Xtr[:\u001b[38;5;241m20\u001b[39m]\n\u001b[1;32m     15\u001b[0m test_y \u001b[38;5;241m=\u001b[39m Ytr[:\u001b[38;5;241m20\u001b[39m]\n\u001b[0;32m---> 17\u001b[0m logits \u001b[38;5;241m=\u001b[39m \u001b[43mtest_mlp\u001b[49m\u001b[43m(\u001b[49m\u001b[43mtest_x\u001b[49m\u001b[43m)\u001b[49m\n\u001b[1;32m     18\u001b[0m loss \u001b[38;5;241m=\u001b[39m F\u001b[38;5;241m.\u001b[39mcross_entropy(logits, test_y)\n",
      "File \u001b[0;32m~/opt/anaconda3/lib/python3.9/site-packages/torch/nn/modules/module.py:1190\u001b[0m, in \u001b[0;36mModule._call_impl\u001b[0;34m(self, *input, **kwargs)\u001b[0m\n\u001b[1;32m   1186\u001b[0m \u001b[38;5;66;03m# If we don't have any hooks, we want to skip the rest of the logic in\u001b[39;00m\n\u001b[1;32m   1187\u001b[0m \u001b[38;5;66;03m# this function, and just call forward.\u001b[39;00m\n\u001b[1;32m   1188\u001b[0m \u001b[38;5;28;01mif\u001b[39;00m \u001b[38;5;129;01mnot\u001b[39;00m (\u001b[38;5;28mself\u001b[39m\u001b[38;5;241m.\u001b[39m_backward_hooks \u001b[38;5;129;01mor\u001b[39;00m \u001b[38;5;28mself\u001b[39m\u001b[38;5;241m.\u001b[39m_forward_hooks \u001b[38;5;129;01mor\u001b[39;00m \u001b[38;5;28mself\u001b[39m\u001b[38;5;241m.\u001b[39m_forward_pre_hooks \u001b[38;5;129;01mor\u001b[39;00m _global_backward_hooks\n\u001b[1;32m   1189\u001b[0m         \u001b[38;5;129;01mor\u001b[39;00m _global_forward_hooks \u001b[38;5;129;01mor\u001b[39;00m _global_forward_pre_hooks):\n\u001b[0;32m-> 1190\u001b[0m     \u001b[38;5;28;01mreturn\u001b[39;00m \u001b[43mforward_call\u001b[49m\u001b[43m(\u001b[49m\u001b[38;5;241;43m*\u001b[39;49m\u001b[38;5;28;43minput\u001b[39;49m\u001b[43m,\u001b[49m\u001b[43m \u001b[49m\u001b[38;5;241;43m*\u001b[39;49m\u001b[38;5;241;43m*\u001b[39;49m\u001b[43mkwargs\u001b[49m\u001b[43m)\u001b[49m\n\u001b[1;32m   1191\u001b[0m \u001b[38;5;66;03m# Do not call functions when jit is used\u001b[39;00m\n\u001b[1;32m   1192\u001b[0m full_backward_hooks, non_full_backward_hooks \u001b[38;5;241m=\u001b[39m [], []\n",
      "Cell \u001b[0;32mIn [10], line 45\u001b[0m, in \u001b[0;36mWaveNet.forward\u001b[0;34m(self, x)\u001b[0m\n\u001b[1;32m     44\u001b[0m \u001b[38;5;28;01mdef\u001b[39;00m \u001b[38;5;21mforward\u001b[39m(\u001b[38;5;28mself\u001b[39m, x):\n\u001b[0;32m---> 45\u001b[0m     \u001b[38;5;28;01mreturn\u001b[39;00m \u001b[38;5;28;43mself\u001b[39;49m\u001b[38;5;241;43m.\u001b[39;49m\u001b[43mlayers\u001b[49m\u001b[43m(\u001b[49m\u001b[43mx\u001b[49m\u001b[43m)\u001b[49m\n",
      "File \u001b[0;32m~/opt/anaconda3/lib/python3.9/site-packages/torch/nn/modules/module.py:1190\u001b[0m, in \u001b[0;36mModule._call_impl\u001b[0;34m(self, *input, **kwargs)\u001b[0m\n\u001b[1;32m   1186\u001b[0m \u001b[38;5;66;03m# If we don't have any hooks, we want to skip the rest of the logic in\u001b[39;00m\n\u001b[1;32m   1187\u001b[0m \u001b[38;5;66;03m# this function, and just call forward.\u001b[39;00m\n\u001b[1;32m   1188\u001b[0m \u001b[38;5;28;01mif\u001b[39;00m \u001b[38;5;129;01mnot\u001b[39;00m (\u001b[38;5;28mself\u001b[39m\u001b[38;5;241m.\u001b[39m_backward_hooks \u001b[38;5;129;01mor\u001b[39;00m \u001b[38;5;28mself\u001b[39m\u001b[38;5;241m.\u001b[39m_forward_hooks \u001b[38;5;129;01mor\u001b[39;00m \u001b[38;5;28mself\u001b[39m\u001b[38;5;241m.\u001b[39m_forward_pre_hooks \u001b[38;5;129;01mor\u001b[39;00m _global_backward_hooks\n\u001b[1;32m   1189\u001b[0m         \u001b[38;5;129;01mor\u001b[39;00m _global_forward_hooks \u001b[38;5;129;01mor\u001b[39;00m _global_forward_pre_hooks):\n\u001b[0;32m-> 1190\u001b[0m     \u001b[38;5;28;01mreturn\u001b[39;00m \u001b[43mforward_call\u001b[49m\u001b[43m(\u001b[49m\u001b[38;5;241;43m*\u001b[39;49m\u001b[38;5;28;43minput\u001b[39;49m\u001b[43m,\u001b[49m\u001b[43m \u001b[49m\u001b[38;5;241;43m*\u001b[39;49m\u001b[38;5;241;43m*\u001b[39;49m\u001b[43mkwargs\u001b[49m\u001b[43m)\u001b[49m\n\u001b[1;32m   1191\u001b[0m \u001b[38;5;66;03m# Do not call functions when jit is used\u001b[39;00m\n\u001b[1;32m   1192\u001b[0m full_backward_hooks, non_full_backward_hooks \u001b[38;5;241m=\u001b[39m [], []\n",
      "File \u001b[0;32m~/opt/anaconda3/lib/python3.9/site-packages/torch/nn/modules/container.py:204\u001b[0m, in \u001b[0;36mSequential.forward\u001b[0;34m(self, input)\u001b[0m\n\u001b[1;32m    202\u001b[0m \u001b[38;5;28;01mdef\u001b[39;00m \u001b[38;5;21mforward\u001b[39m(\u001b[38;5;28mself\u001b[39m, \u001b[38;5;28minput\u001b[39m):\n\u001b[1;32m    203\u001b[0m     \u001b[38;5;28;01mfor\u001b[39;00m module \u001b[38;5;129;01min\u001b[39;00m \u001b[38;5;28mself\u001b[39m:\n\u001b[0;32m--> 204\u001b[0m         \u001b[38;5;28minput\u001b[39m \u001b[38;5;241m=\u001b[39m \u001b[43mmodule\u001b[49m\u001b[43m(\u001b[49m\u001b[38;5;28;43minput\u001b[39;49m\u001b[43m)\u001b[49m\n\u001b[1;32m    205\u001b[0m     \u001b[38;5;28;01mreturn\u001b[39;00m \u001b[38;5;28minput\u001b[39m\n",
      "File \u001b[0;32m~/opt/anaconda3/lib/python3.9/site-packages/torch/nn/modules/module.py:1190\u001b[0m, in \u001b[0;36mModule._call_impl\u001b[0;34m(self, *input, **kwargs)\u001b[0m\n\u001b[1;32m   1186\u001b[0m \u001b[38;5;66;03m# If we don't have any hooks, we want to skip the rest of the logic in\u001b[39;00m\n\u001b[1;32m   1187\u001b[0m \u001b[38;5;66;03m# this function, and just call forward.\u001b[39;00m\n\u001b[1;32m   1188\u001b[0m \u001b[38;5;28;01mif\u001b[39;00m \u001b[38;5;129;01mnot\u001b[39;00m (\u001b[38;5;28mself\u001b[39m\u001b[38;5;241m.\u001b[39m_backward_hooks \u001b[38;5;129;01mor\u001b[39;00m \u001b[38;5;28mself\u001b[39m\u001b[38;5;241m.\u001b[39m_forward_hooks \u001b[38;5;129;01mor\u001b[39;00m \u001b[38;5;28mself\u001b[39m\u001b[38;5;241m.\u001b[39m_forward_pre_hooks \u001b[38;5;129;01mor\u001b[39;00m _global_backward_hooks\n\u001b[1;32m   1189\u001b[0m         \u001b[38;5;129;01mor\u001b[39;00m _global_forward_hooks \u001b[38;5;129;01mor\u001b[39;00m _global_forward_pre_hooks):\n\u001b[0;32m-> 1190\u001b[0m     \u001b[38;5;28;01mreturn\u001b[39;00m \u001b[43mforward_call\u001b[49m\u001b[43m(\u001b[49m\u001b[38;5;241;43m*\u001b[39;49m\u001b[38;5;28;43minput\u001b[39;49m\u001b[43m,\u001b[49m\u001b[43m \u001b[49m\u001b[38;5;241;43m*\u001b[39;49m\u001b[38;5;241;43m*\u001b[39;49m\u001b[43mkwargs\u001b[49m\u001b[43m)\u001b[49m\n\u001b[1;32m   1191\u001b[0m \u001b[38;5;66;03m# Do not call functions when jit is used\u001b[39;00m\n\u001b[1;32m   1192\u001b[0m full_backward_hooks, non_full_backward_hooks \u001b[38;5;241m=\u001b[39m [], []\n",
      "File \u001b[0;32m~/opt/anaconda3/lib/python3.9/site-packages/torch/nn/modules/conv.py:313\u001b[0m, in \u001b[0;36mConv1d.forward\u001b[0;34m(self, input)\u001b[0m\n\u001b[1;32m    312\u001b[0m \u001b[38;5;28;01mdef\u001b[39;00m \u001b[38;5;21mforward\u001b[39m(\u001b[38;5;28mself\u001b[39m, \u001b[38;5;28minput\u001b[39m: Tensor) \u001b[38;5;241m-\u001b[39m\u001b[38;5;241m>\u001b[39m Tensor:\n\u001b[0;32m--> 313\u001b[0m     \u001b[38;5;28;01mreturn\u001b[39;00m \u001b[38;5;28;43mself\u001b[39;49m\u001b[38;5;241;43m.\u001b[39;49m\u001b[43m_conv_forward\u001b[49m\u001b[43m(\u001b[49m\u001b[38;5;28;43minput\u001b[39;49m\u001b[43m,\u001b[49m\u001b[43m \u001b[49m\u001b[38;5;28;43mself\u001b[39;49m\u001b[38;5;241;43m.\u001b[39;49m\u001b[43mweight\u001b[49m\u001b[43m,\u001b[49m\u001b[43m \u001b[49m\u001b[38;5;28;43mself\u001b[39;49m\u001b[38;5;241;43m.\u001b[39;49m\u001b[43mbias\u001b[49m\u001b[43m)\u001b[49m\n",
      "File \u001b[0;32m~/opt/anaconda3/lib/python3.9/site-packages/torch/nn/modules/conv.py:309\u001b[0m, in \u001b[0;36mConv1d._conv_forward\u001b[0;34m(self, input, weight, bias)\u001b[0m\n\u001b[1;32m    305\u001b[0m \u001b[38;5;28;01mif\u001b[39;00m \u001b[38;5;28mself\u001b[39m\u001b[38;5;241m.\u001b[39mpadding_mode \u001b[38;5;241m!=\u001b[39m \u001b[38;5;124m'\u001b[39m\u001b[38;5;124mzeros\u001b[39m\u001b[38;5;124m'\u001b[39m:\n\u001b[1;32m    306\u001b[0m     \u001b[38;5;28;01mreturn\u001b[39;00m F\u001b[38;5;241m.\u001b[39mconv1d(F\u001b[38;5;241m.\u001b[39mpad(\u001b[38;5;28minput\u001b[39m, \u001b[38;5;28mself\u001b[39m\u001b[38;5;241m.\u001b[39m_reversed_padding_repeated_twice, mode\u001b[38;5;241m=\u001b[39m\u001b[38;5;28mself\u001b[39m\u001b[38;5;241m.\u001b[39mpadding_mode),\n\u001b[1;32m    307\u001b[0m                     weight, bias, \u001b[38;5;28mself\u001b[39m\u001b[38;5;241m.\u001b[39mstride,\n\u001b[1;32m    308\u001b[0m                     _single(\u001b[38;5;241m0\u001b[39m), \u001b[38;5;28mself\u001b[39m\u001b[38;5;241m.\u001b[39mdilation, \u001b[38;5;28mself\u001b[39m\u001b[38;5;241m.\u001b[39mgroups)\n\u001b[0;32m--> 309\u001b[0m \u001b[38;5;28;01mreturn\u001b[39;00m \u001b[43mF\u001b[49m\u001b[38;5;241;43m.\u001b[39;49m\u001b[43mconv1d\u001b[49m\u001b[43m(\u001b[49m\u001b[38;5;28;43minput\u001b[39;49m\u001b[43m,\u001b[49m\u001b[43m \u001b[49m\u001b[43mweight\u001b[49m\u001b[43m,\u001b[49m\u001b[43m \u001b[49m\u001b[43mbias\u001b[49m\u001b[43m,\u001b[49m\u001b[43m \u001b[49m\u001b[38;5;28;43mself\u001b[39;49m\u001b[38;5;241;43m.\u001b[39;49m\u001b[43mstride\u001b[49m\u001b[43m,\u001b[49m\n\u001b[1;32m    310\u001b[0m \u001b[43m                \u001b[49m\u001b[38;5;28;43mself\u001b[39;49m\u001b[38;5;241;43m.\u001b[39;49m\u001b[43mpadding\u001b[49m\u001b[43m,\u001b[49m\u001b[43m \u001b[49m\u001b[38;5;28;43mself\u001b[39;49m\u001b[38;5;241;43m.\u001b[39;49m\u001b[43mdilation\u001b[49m\u001b[43m,\u001b[49m\u001b[43m \u001b[49m\u001b[38;5;28;43mself\u001b[39;49m\u001b[38;5;241;43m.\u001b[39;49m\u001b[43mgroups\u001b[49m\u001b[43m)\u001b[49m\n",
      "\u001b[0;31mRuntimeError\u001b[0m: Given groups=1, weight of size [64, 8, 2], expected input[20, 64, 9] to have 8 channels, but got 64 channels instead"
     ]
    }
   ],
   "source": [
    "hidden_nodes = 64\n",
    "embeddings = 10\n",
    "num_layers = 3\n",
    "\n",
    "# test_mlp = MLP(num_char, hidden_nodes, embeddings, window, num_layers)\n",
    "test_mlp = WaveNet(num_char, hidden_nodes, embeddings, window, num_layers)\n",
    "\n",
    "\n",
    "print(test_mlp.parameters)\n",
    "\n",
    "# for p in test_mlp.parameters():\n",
    "#     p.requires_grad = True\n",
    "    \n",
    "test_x = Xtr[:20]\n",
    "test_y = Ytr[:20]\n",
    "\n",
    "logits = test_mlp(test_x)\n",
    "loss = F.cross_entropy(logits, test_y)"
   ]
  },
  {
   "cell_type": "code",
   "execution_count": null,
   "id": "9e6f2ca1-f304-40db-8b57-0098dd0e15e7",
   "metadata": {},
   "outputs": [],
   "source": []
  },
  {
   "cell_type": "code",
   "execution_count": 92,
   "id": "e1923615-b0d6-4643-ade9-ed5c84e94edd",
   "metadata": {},
   "outputs": [
    {
     "name": "stdout",
     "output_type": "stream",
     "text": [
      "      0/  80000: dt: 0.09 dev_loss: 3.4639 loss: 3.4095\n",
      "   2000/  80000: dt: 20.98 dev_loss: 2.3402 loss: 2.5731\n",
      "   4000/  80000: dt: 39.11 dev_loss: 2.6287 loss: 2.2673\n",
      "   6000/  80000: dt: 59.23 dev_loss: 2.3434 loss: 2.4723\n",
      "   8000/  80000: dt: 79.76 dev_loss: 2.1064 loss: 2.4893\n",
      "  10000/  80000: dt: 99.93 dev_loss: 2.6444 loss: 2.4883\n",
      "  12000/  80000: dt: 119.88 dev_loss: 2.4069 loss: 2.2906\n",
      "  14000/  80000: dt: 140.60 dev_loss: 2.5049 loss: 2.4434\n",
      "  16000/  80000: dt: 161.00 dev_loss: 2.0796 loss: 2.2646\n",
      "  18000/  80000: dt: 180.97 dev_loss: 2.2573 loss: 2.0039\n",
      "  20000/  80000: dt: 200.90 dev_loss: 2.3126 loss: 2.2494\n",
      "  22000/  80000: dt: 223.45 dev_loss: 2.1506 loss: 2.1783\n",
      "  24000/  80000: dt: 246.33 dev_loss: 2.4004 loss: 2.5812\n",
      "  26000/  80000: dt: 269.19 dev_loss: 2.2284 loss: 2.2315\n",
      "  28000/  80000: dt: 290.20 dev_loss: 2.4547 loss: 2.5954\n",
      "  30000/  80000: dt: 310.75 dev_loss: 2.6294 loss: 2.5003\n",
      "  32000/  80000: dt: 331.43 dev_loss: 2.1473 loss: 2.3744\n",
      "  34000/  80000: dt: 352.59 dev_loss: 2.2044 loss: 2.1441\n",
      "  36000/  80000: dt: 373.70 dev_loss: 2.3576 loss: 2.2370\n",
      "  38000/  80000: dt: 394.81 dev_loss: 2.2234 loss: 2.5150\n",
      "  40000/  80000: dt: 415.35 dev_loss: 2.3390 loss: 2.2906\n",
      "  42000/  80000: dt: 435.98 dev_loss: 2.0375 loss: 2.4578\n",
      "  44000/  80000: dt: 456.70 dev_loss: 2.5402 loss: 2.3368\n",
      "  46000/  80000: dt: 477.20 dev_loss: 2.2251 loss: 2.0508\n",
      "  48000/  80000: dt: 498.03 dev_loss: 2.2220 loss: 2.1649\n",
      "  50000/  80000: dt: 518.99 dev_loss: 2.1806 loss: 2.4988\n",
      "  52000/  80000: dt: 540.19 dev_loss: 2.4319 loss: 2.2946\n",
      "  54000/  80000: dt: 560.79 dev_loss: 2.2437 loss: 2.4613\n",
      "  56000/  80000: dt: 581.92 dev_loss: 2.3078 loss: 2.2522\n",
      "  58000/  80000: dt: 603.26 dev_loss: 2.3822 loss: 2.2424\n",
      "  60000/  80000: dt: 623.61 dev_loss: 2.5174 loss: 2.1530\n",
      "  62000/  80000: dt: 643.91 dev_loss: 1.9258 loss: 2.0981\n",
      "  64000/  80000: dt: 664.06 dev_loss: 2.4359 loss: 2.0500\n",
      "  66000/  80000: dt: 684.05 dev_loss: 2.3610 loss: 2.2607\n",
      "  68000/  80000: dt: 703.90 dev_loss: 2.2827 loss: 2.2802\n",
      "  70000/  80000: dt: 723.66 dev_loss: 1.7989 loss: 2.3152\n",
      "  72000/  80000: dt: 743.55 dev_loss: 2.1490 loss: 2.2995\n",
      "  74000/  80000: dt: 763.63 dev_loss: 2.2697 loss: 2.3435\n",
      "  76000/  80000: dt: 783.94 dev_loss: 2.2218 loss: 2.1924\n",
      "  78000/  80000: dt: 804.00 dev_loss: 2.3107 loss: 2.2893\n",
      "  80000/  80000: dt: 824.41 dev_loss: 2.1674 loss: 2.0734\n",
      "total training time: 824.4091823330018\n"
     ]
    }
   ],
   "source": [
    "hidden_nodes = 100\n",
    "embeddings = 10\n",
    "num_layers = 5\n",
    "\n",
    "network = WaveNet(num_char, hidden_nodes, embeddings, window, num_layers)\n",
    "network.to(m1)\n",
    "network.train(mode=True)\n",
    "\n",
    "# for p in network.parameters():\n",
    "#     p.requires_grad = True\n",
    "    \n",
    "steps = []\n",
    "losses = []\n",
    "dev_steps = []\n",
    "dev_losses = []\n",
    "batch_size = 64\n",
    "max_steps = 200000\n",
    "rec_freq = 2000\n",
    "start_time = time.perf_counter()\n",
    "\n",
    "for i in range(max_steps+1):\n",
    "    # sample from training set\n",
    "    sample_idx = torch.randint(len(Ytr), size=(batch_size,1))\n",
    "    X, Y = torch.squeeze(Xtr[sample_idx].to(m1)), torch.squeeze(Ytr[sample_idx].to(m1))\n",
    "    \n",
    "    # forward\n",
    "    logits = network(X)\n",
    "    loss = F.cross_entropy(logits, Y)\n",
    "    \n",
    "    # zero out grad and do backward pass\n",
    "    for p in network.parameters():\n",
    "        p.grad = None\n",
    "    network.zero_grad()\n",
    "    loss.backward()\n",
    "    \n",
    "    # update\n",
    "    if i < 40000:\n",
    "        lr = 0.1\n",
    "    elif i < 100000:\n",
    "        lr = 0.01\n",
    "    else:\n",
    "        lr = 0.005\n",
    "    # lr = 0.1 if i < 50000 else 0.01 # step learning rate decay\n",
    "    with torch.no_grad():\n",
    "        for p in network.parameters():\n",
    "            p += -lr*p.grad\n",
    "        \n",
    "    steps.append(i)\n",
    "    losses.append(loss.item())\n",
    "    \n",
    "    if i % rec_freq == 0: # print every once in a while\n",
    "        dev_loss = 0\n",
    "        with torch.no_grad():\n",
    "            dev_idx = torch.randint(len(Ydev), size=(batch_size,1))\n",
    "            X_check, Y_check = torch.squeeze(Xdev[dev_idx].to(m1)), torch.squeeze(Ydev[dev_idx].to(m1))\n",
    "\n",
    "            dev_loss = F.cross_entropy(network(X_check), Y_check)\n",
    "            \n",
    "        current_time = time.perf_counter()\n",
    "        dt = current_time - start_time\n",
    "        print(f'{i:7d}/{max_steps:7d}: dt: {dt:.2f} dev_loss: {dev_loss.item():.4f} loss: {loss.item():.4f}')\n",
    "        \n",
    "        dev_losses.append(dev_loss.item())\n",
    "        dev_steps.append(i)\n",
    "\n",
    "current_time = time.perf_counter()\n",
    "dt = current_time - start_time\n",
    "print(\"total training time: {}\".format(dt))"
   ]
  },
  {
   "cell_type": "code",
   "execution_count": 112,
   "id": "9cb13023-727e-4393-98fe-58e2e3d4bf5d",
   "metadata": {},
   "outputs": [
    {
     "data": {
      "text/plain": [
       "[<matplotlib.lines.Line2D at 0x7fdf9d11a730>]"
      ]
     },
     "execution_count": 112,
     "metadata": {},
     "output_type": "execute_result"
    },
    {
     "data": {
      "image/png": "[encoded data removed]",
      "text/plain": [
       "<Figure size 640x480 with 1 Axes>"
      ]
     },
     "metadata": {},
     "output_type": "display_data"
    }
   ],
   "source": [
    "loss_tensor = torch.tensor(losses)\n",
    "if loss_tensor.shape[0] >= max_steps:\n",
    "    loss_tensor = loss_tensor[:max_steps]\n",
    "else:\n",
    "    loss_tensor = torch.cat((loss_tensor, torch.zeros(max_steps - steps_tensor.shape[0] + 1)), 0)\n",
    "step_tensor = torch.tensor([a for a in range(loss_tensor.shape[0])], dtype=torch.float32)\n",
    "loss_tensor = loss_tensor.view(-1, 5).mean(1)\n",
    "step_tensor = step_tensor.view(-1, 5).mean(1)\n",
    "\n",
    "plt.plot(step_tensor.view(-1, 200).mean(1), loss_tensor.view(-1, 200).mean(1), label=\"train loss\")\n",
    "plt.plot(torch.tensor(dev_steps), torch.tensor(dev_losses), label=\"dev loss\")"
   ]
  },
  {
   "cell_type": "code",
   "execution_count": 113,
   "id": "2461bfb0-f290-4c2a-9aef-3ef8fcd6f690",
   "metadata": {},
   "outputs": [
    {
     "name": "stdout",
     "output_type": "stream",
     "text": [
      "Running on local URL:  http://127.0.0.1:7877\n",
      "\n",
      "To create a public link, set `share=True` in `launch()`.\n"
     ]
    },
    {
     "data": {
      "text/html": [
       "<div><iframe src=\"http://127.0.0.1:7877/\" width=\"100%\" height=\"500\" allow=\"autoplay; camera; microphone; clipboard-read; clipboard-write;\" frameborder=\"0\" allowfullscreen></iframe></div>"
      ],
      "text/plain": [
       "<IPython.core.display.HTML object>"
      ]
     },
     "metadata": {},
     "output_type": "display_data"
    },
    {
     "data": {
      "text/plain": []
     },
     "execution_count": 113,
     "metadata": {},
     "output_type": "execute_result"
    },
    {
     "name": "stderr",
     "output_type": "stream",
     "text": [
      "[W NNPACK.cpp:53] Could not initialize NNPACK! Reason: Unsupported hardware.\n"
     ]
    }
   ],
   "source": [
    "import gradio as gr\n",
    "\n",
    "network.to(cpu)\n",
    "\n",
    "def generate_names(name_start, number_of_names):\n",
    "    names = \"\"\n",
    "    for _ in range((int)(number_of_names)):\n",
    "    \n",
    "        # Initialize name with user input\n",
    "        name = \"\"\n",
    "        context = [0] * window\n",
    "        for c in name_start.lower():\n",
    "            name += c\n",
    "            context = context[1:] + [stoi[c]]\n",
    "\n",
    "        # Run inference to finish off the name\n",
    "        while True:\n",
    "            network.eval()\n",
    "            logits = network(torch.tensor(context).view((1, -1)))\n",
    "            network.train()\n",
    "\n",
    "            probs = F.softmax(logits, dim=1)\n",
    "            ix = torch.multinomial(probs, num_samples=1).item()\n",
    "\n",
    "            context = context[1:] + [ix]\n",
    "            name += itos[ix]\n",
    "            if ix == 0:\n",
    "                break\n",
    "            \n",
    "        names += name + \"\\n\"\n",
    "        \n",
    "    return names\n",
    "\n",
    "demo = gr.Interface(\n",
    "    fn=generate_names,\n",
    "    inputs=[\n",
    "        gr.Textbox(placeholder=\"Start name with...\"),\n",
    "        \"number\"\n",
    "    ],\n",
    "    outputs=\"text\",\n",
    ")\n",
    "demo.launch()"
   ]
  }
 ],
 "metadata": {
  "kernelspec": {
   "display_name": "Python 3 (ipykernel)",
   "language": "python",
   "name": "python3"
  },
  "language_info": {
   "codemirror_mode": {
    "name": "ipython",
    "version": 3
   },
   "file_extension": ".py",
   "mimetype": "text/x-python",
   "name": "python",
   "nbconvert_exporter": "python",
   "pygments_lexer": "ipython3",
   "version": "3.9.13"
  }
 },
 "nbformat": 4,
 "nbformat_minor": 5
}
