{
 "cells": [
  {
   "cell_type": "code",
   "execution_count": 1,
   "id": "9f2f917f-e5e5-42e7-abf3-747686a2fa55",
   "metadata": {},
   "outputs": [],
   "source": [
    "import torch\n",
    "import torch.nn as nn\n",
    "import torch.nn.functional as F\n",
    "\n",
    "import yaml"
   ]
  },
  {
   "cell_type": "code",
   "execution_count": 3,
   "id": "4145b277-d138-4929-865e-d9737660286a",
   "metadata": {},
   "outputs": [
    {
     "data": {
      "application/vnd.jupyter.widget-view+json": {
       "model_id": "094b6c11411140c2bd14079ebeac23c1",
       "version_major": 2,
       "version_minor": 0
      },
      "text/plain": [
       "Downloading:   0%|          | 0.00/314 [00:00<?, ?B/s]"
      ]
     },
     "metadata": {},
     "output_type": "display_data"
    },
    {
     "data": {
      "application/vnd.jupyter.widget-view+json": {
       "model_id": "3c5e8205684f458b84ca6d4f635a27cb",
       "version_major": 2,
       "version_minor": 0
      },
      "text/plain": [
       "Downloading:   0%|          | 0.00/1.70M [00:00<?, ?B/s]"
      ]
     },
     "metadata": {},
     "output_type": "display_data"
    },
    {
     "data": {
      "application/vnd.jupyter.widget-view+json": {
       "model_id": "d0bd2f3b9ac24d6785d1c6574af805b0",
       "version_major": 2,
       "version_minor": 0
      },
      "text/plain": [
       "Downloading:   0%|          | 0.00/313 [00:00<?, ?B/s]"
      ]
     },
     "metadata": {},
     "output_type": "display_data"
    },
    {
     "data": {
      "application/vnd.jupyter.widget-view+json": {
       "model_id": "3aca73c20fa64c06b292583b8654884b",
       "version_major": 2,
       "version_minor": 0
      },
      "text/plain": [
       "Downloading:   0%|          | 0.00/406k [00:00<?, ?B/s]"
      ]
     },
     "metadata": {},
     "output_type": "display_data"
    }
   ],
   "source": [
    "mlp_config_path = huggingface_hub.hf_hub_download(\n",
    "    \"jefsnacker/surname_generator\",\n",
    "    \"torch_mlp_config.yaml\")\n",
    "\n",
    "mlp_weights_path = huggingface_hub.hf_hub_download(\n",
    "    \"jefsnacker/surname_generator\",\n",
    "    \"mlp_weights.pt\")\n",
    "\n",
    "wavenet_config_path = huggingface_hub.hf_hub_download(\n",
    "    \"jefsnacker/surname_generator\",\n",
    "    \"wavenet_config.yaml\")\n",
    "\n",
    "wavenet_weights_path = huggingface_hub.hf_hub_download(\n",
    "    \"jefsnacker/surname_generator\",\n",
    "    \"wavenet_weights.pt\")"
   ]
  },
  {
   "cell_type": "code",
   "execution_count": 4,
   "id": "ece47c72-08d8-4496-841e-23ca8a023d84",
   "metadata": {},
   "outputs": [],
   "source": [
    "with open(mlp_config_path, 'r') as file:\n",
    "    mlp_config = yaml.safe_load(file)\n",
    "\n",
    "with open(wavenet_config_path, 'r') as file:\n",
    "    wavenet_config = yaml.safe_load(file)\n",
    "    "
   ]
  },
  {
   "cell_type": "code",
   "execution_count": 5,
   "id": "a6733075-1c64-40a3-82be-7940bc6842ed",
   "metadata": {},
   "outputs": [
    {
     "data": {
      "text/plain": [
       "MLP(\n",
       "  (first): Linear(in_features=30, out_features=200, bias=True)\n",
       "  (layers): Sequential(\n",
       "    (0): Linear(in_features=200, out_features=200, bias=False)\n",
       "    (1): BatchNorm1d(200, eps=1e-05, momentum=0.1, affine=True, track_running_stats=True)\n",
       "    (2): Tanh()\n",
       "    (3): Linear(in_features=200, out_features=200, bias=False)\n",
       "    (4): BatchNorm1d(200, eps=1e-05, momentum=0.1, affine=True, track_running_stats=True)\n",
       "    (5): Tanh()\n",
       "    (6): Linear(in_features=200, out_features=200, bias=False)\n",
       "    (7): BatchNorm1d(200, eps=1e-05, momentum=0.1, affine=True, track_running_stats=True)\n",
       "    (8): Tanh()\n",
       "    (9): Linear(in_features=200, out_features=200, bias=False)\n",
       "    (10): BatchNorm1d(200, eps=1e-05, momentum=0.1, affine=True, track_running_stats=True)\n",
       "    (11): Tanh()\n",
       "    (12): Linear(in_features=200, out_features=200, bias=False)\n",
       "    (13): BatchNorm1d(200, eps=1e-05, momentum=0.1, affine=True, track_running_stats=True)\n",
       "    (14): Tanh()\n",
       "    (15): Linear(in_features=200, out_features=200, bias=False)\n",
       "    (16): BatchNorm1d(200, eps=1e-05, momentum=0.1, affine=True, track_running_stats=True)\n",
       "    (17): Tanh()\n",
       "    (18): Linear(in_features=200, out_features=200, bias=False)\n",
       "    (19): BatchNorm1d(200, eps=1e-05, momentum=0.1, affine=True, track_running_stats=True)\n",
       "    (20): Tanh()\n",
       "    (21): Linear(in_features=200, out_features=200, bias=False)\n",
       "    (22): BatchNorm1d(200, eps=1e-05, momentum=0.1, affine=True, track_running_stats=True)\n",
       "    (23): Tanh()\n",
       "    (24): Linear(in_features=200, out_features=200, bias=False)\n",
       "    (25): BatchNorm1d(200, eps=1e-05, momentum=0.1, affine=True, track_running_stats=True)\n",
       "    (26): Tanh()\n",
       "    (27): Linear(in_features=200, out_features=200, bias=False)\n",
       "    (28): BatchNorm1d(200, eps=1e-05, momentum=0.1, affine=True, track_running_stats=True)\n",
       "    (29): Tanh()\n",
       "  )\n",
       "  (final): Linear(in_features=200, out_features=30, bias=True)\n",
       ")"
      ]
     },
     "execution_count": 5,
     "metadata": {},
     "output_type": "execute_result"
    }
   ],
   "source": [
    "class MLP(nn.Module):\n",
    "    def __init__(self, num_char, hidden_nodes, embeddings, window, num_layers):   \n",
    "        super(MLP, self).__init__()\n",
    "        \n",
    "        self.window = window\n",
    "        self.hidden_nodes = hidden_nodes\n",
    "        self.embeddings = embeddings\n",
    "        \n",
    "        self.C = nn.Parameter(torch.randn((num_char, embeddings)) * 0.1, requires_grad=True)\n",
    "        \n",
    "        self.first = nn.Linear(embeddings*window, hidden_nodes)\n",
    "\n",
    "        self.layers = nn.Sequential()\n",
    "        for i in range(num_layers):\n",
    "            self.layers = self.layers.extend(nn.Sequential(\n",
    "                nn.Linear(hidden_nodes, hidden_nodes, bias=False),\n",
    "                nn.BatchNorm1d(hidden_nodes),\n",
    "                nn.Tanh()))\n",
    "\n",
    "        self.final = nn.Linear(hidden_nodes, num_char)\n",
    "        \n",
    "    def forward(self, x):\n",
    "        x = self.C[x]\n",
    "        x = self.first(x.view(-1, self.window*self.embeddings))\n",
    "        \n",
    "        x = self.layers(x)\n",
    "\n",
    "        x = self.final(x)\n",
    "        return x\n",
    "    \n",
    "    def sample_char(self, x):\n",
    "        logits = self(x)\n",
    "        probs = F.softmax(logits, dim=1)\n",
    "        return torch.multinomial(probs, num_samples=1).item()\n",
    "     \n",
    "mlp = MLP(mlp_config['num_char'], \n",
    "          mlp_config['hidden_nodes'], \n",
    "          mlp_config['embeddings'], \n",
    "          mlp_config['window'], \n",
    "          mlp_config['num_layers'])\n",
    "\n",
    "mlp.load_state_dict(torch.load(mlp_weights_path))\n",
    "mlp.eval()\n"
   ]
  },
  {
   "cell_type": "code",
   "execution_count": 6,
   "id": "077f61d9-3c96-4624-8187-8daf8255add1",
   "metadata": {},
   "outputs": [
    {
     "data": {
      "text/plain": [
       "WaveNet(\n",
       "  (layers): Sequential(\n",
       "    (0): Embedding(30, 10)\n",
       "    (1): Conv1d(8, 100, kernel_size=(2,), stride=(1,), bias=False)\n",
       "    (2): BatchNorm1d(100, eps=1e-05, momentum=0.1, affine=True, track_running_stats=True)\n",
       "    (3): Tanh()\n",
       "    (4): Conv1d(100, 100, kernel_size=(2,), stride=(1,), bias=False)\n",
       "    (5): BatchNorm1d(100, eps=1e-05, momentum=0.1, affine=True, track_running_stats=True)\n",
       "    (6): Tanh()\n",
       "    (7): Conv1d(100, 100, kernel_size=(2,), stride=(1,), bias=False)\n",
       "    (8): BatchNorm1d(100, eps=1e-05, momentum=0.1, affine=True, track_running_stats=True)\n",
       "    (9): Tanh()\n",
       "    (10): Conv1d(100, 100, kernel_size=(2,), stride=(1,), bias=False)\n",
       "    (11): BatchNorm1d(100, eps=1e-05, momentum=0.1, affine=True, track_running_stats=True)\n",
       "    (12): Tanh()\n",
       "    (13): Conv1d(100, 100, kernel_size=(2,), stride=(1,), bias=False)\n",
       "    (14): BatchNorm1d(100, eps=1e-05, momentum=0.1, affine=True, track_running_stats=True)\n",
       "    (15): Tanh()\n",
       "    (16): Flatten(start_dim=1, end_dim=-1)\n",
       "    (17): Linear(in_features=500, out_features=30, bias=True)\n",
       "  )\n",
       ")"
      ]
     },
     "execution_count": 6,
     "metadata": {},
     "output_type": "execute_result"
    }
   ],
   "source": [
    "class WaveNet(nn.Module):\n",
    "    def __init__(self, num_char, hidden_nodes, embeddings, window, num_layers):   \n",
    "        super(WaveNet, self).__init__()\n",
    "        \n",
    "        self.window = window\n",
    "        self.hidden_nodes = hidden_nodes\n",
    "        self.embeddings = embeddings        \n",
    "        \n",
    "        self.layers = nn.Sequential(\n",
    "            nn.Embedding(num_char, embeddings)\n",
    "        )\n",
    "        \n",
    "        for i in range(num_layers):\n",
    "            if i == 0:\n",
    "                nodes = window\n",
    "            else:\n",
    "                nodes = hidden_nodes\n",
    "                \n",
    "            self.layers = self.layers.extend(nn.Sequential(\n",
    "                nn.Conv1d(nodes, hidden_nodes, kernel_size=2, stride=1, bias=False),\n",
    "                nn.BatchNorm1d(hidden_nodes),\n",
    "                nn.Tanh()))\n",
    "            \n",
    "        self.layers = self.layers.extend(nn.Sequential(\n",
    "            nn.Flatten(),\n",
    "            nn.Linear(hidden_nodes*(embeddings-num_layers), num_char)\n",
    "        ))\n",
    "        \n",
    "    def forward(self, x):\n",
    "        return self.layers(x)\n",
    "    \n",
    "    def sample_char(self, x):\n",
    "        logits = self(x)\n",
    "        probs = F.softmax(logits, dim=1)\n",
    "        return torch.multinomial(probs, num_samples=1).item()\n",
    "    \n",
    "wavenet = WaveNet(wavenet_config['num_char'], \n",
    "                  wavenet_config['hidden_nodes'], \n",
    "                  wavenet_config['embeddings'], \n",
    "                  wavenet_config['window'], \n",
    "                  wavenet_config['num_layers'])\n",
    "wavenet.load_state_dict(torch.load(wavenet_weights_path))\n",
    "wavenet.eval()"
   ]
  },
  {
   "cell_type": "code",
   "execution_count": 7,
   "id": "5849cbd4-b292-49ba-901e-0a0d18332b0f",
   "metadata": {},
   "outputs": [
    {
     "data": {
      "text/plain": [
       "(device(type='cpu'), device(type='cpu'))"
      ]
     },
     "execution_count": 7,
     "metadata": {},
     "output_type": "execute_result"
    }
   ],
   "source": [
    "next(mlp.parameters()).device, next(wavenet.parameters()).device"
   ]
  },
  {
   "cell_type": "code",
   "execution_count": 8,
   "id": "0b2bff2e-d15b-451e-92f4-4a9778084193",
   "metadata": {},
   "outputs": [
    {
     "name": "stdout",
     "output_type": "stream",
     "text": [
      "Running on local URL:  http://127.0.0.1:7866\n",
      "\n",
      "To create a public link, set `share=True` in `launch()`.\n"
     ]
    },
    {
     "data": {
      "text/html": [
       "<div><iframe src=\"http://127.0.0.1:7866/\" width=\"100%\" height=\"500\" allow=\"autoplay; camera; microphone; clipboard-read; clipboard-write;\" frameborder=\"0\" allowfullscreen></iframe></div>"
      ],
      "text/plain": [
       "<IPython.core.display.HTML object>"
      ]
     },
     "metadata": {},
     "output_type": "display_data"
    },
    {
     "data": {
      "text/plain": []
     },
     "execution_count": 8,
     "metadata": {},
     "output_type": "execute_result"
    },
    {
     "name": "stderr",
     "output_type": "stream",
     "text": [
      "[W NNPACK.cpp:53] Could not initialize NNPACK! Reason: Unsupported hardware.\n"
     ]
    }
   ],
   "source": [
    "import gradio as gr\n",
    "\n",
    "def generate_names(name_start, number_of_names, model):\n",
    "    if model == \"MLP\":\n",
    "        stoi = mlp_config['stoi']\n",
    "        window = mlp_config['window']\n",
    "    elif model == \"WaveNet\":\n",
    "        stoi = wavenet_config['stoi']\n",
    "        window = wavenet_config['window']\n",
    "    itos = {s:i for i,s in stoi.items()}\n",
    "\n",
    "    names = \"\"\n",
    "    for _ in range((int)(number_of_names)):\n",
    "    \n",
    "        # Initialize name with user input\n",
    "        name = \"\"\n",
    "        context = [0] * window\n",
    "        for c in name_start.lower():\n",
    "            name += c\n",
    "            context = context[1:] + [stoi[c]]\n",
    "\n",
    "        # Run inference to finish off the name\n",
    "        while True:\n",
    "            x = torch.tensor(context).view(1, -1)\n",
    "            if model == \"MLP\":\n",
    "                ix = mlp.sample_char(x)\n",
    "            elif model == \"WaveNet\":\n",
    "                ix = wavenet.sample_char(x)\n",
    "                \n",
    "            context = context[1:] + [ix]\n",
    "            name += itos[ix]\n",
    "                \n",
    "            if ix == 0:\n",
    "                break\n",
    "            \n",
    "        names += name + \"\\n\"\n",
    "        \n",
    "    return names\n",
    "\n",
    "demo = gr.Interface(\n",
    "    fn=generate_names,\n",
    "    inputs=[\n",
    "        gr.Textbox(placeholder=\"Start name with...\"),\n",
    "        gr.Number(value=5),\n",
    "        gr.Dropdown([\"MLP\", \"WaveNet\"], value=\"WaveNet\"),\n",
    "    ],\n",
    "    outputs=\"text\",\n",
    ")\n",
    "demo.launch()"
   ]
  },
  {
   "cell_type": "code",
   "execution_count": null,
   "id": "e20f2967-f5ea-46e4-b76b-c1eeb9007725",
   "metadata": {},
   "outputs": [],
   "source": []
  }
 ],
 "metadata": {
  "kernelspec": {
   "display_name": "Python 3 (ipykernel)",
   "language": "python",
   "name": "python3"
  },
  "language_info": {
   "codemirror_mode": {
    "name": "ipython",
    "version": 3
   },
   "file_extension": ".py",
   "mimetype": "text/x-python",
   "name": "python",
   "nbconvert_exporter": "python",
   "pygments_lexer": "ipython3",
   "version": "3.9.13"
  }
 },
 "nbformat": 4,
 "nbformat_minor": 5
}
