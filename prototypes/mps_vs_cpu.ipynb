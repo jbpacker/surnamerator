{
 "cells": [
  {
   "cell_type": "code",
   "execution_count": null,
   "metadata": {},
   "outputs": [],
   "source": [
    "## Investigating if m1 speeds things up\n",
    "\n",
    "import torch\n",
    "import time\n",
    "import matplotlib.pyplot as plt\n",
    "\n",
    "cpu_device = torch.device('cpu')\n",
    "mps_device = torch.device('mps')\n",
    "hi_cpu = torch.rand((10000, 10000), dtype=torch.float32).to(cpu_device)\n",
    "bye_cpu = torch.rand((10000, 10000), dtype=torch.float32).to(cpu_device)\n",
    "hi_mps = torch.rand((10000, 10000), dtype=torch.float32).to(mps_device)\n",
    "bye_mps = torch.rand((10000, 10000), dtype=torch.float32).to(mps_device)\n",
    "\n",
    "ts_cpu = []\n",
    "for i in range(500):\n",
    "    t = time.perf_counter()\n",
    "    hi_cpu * bye_cpu\n",
    "    # print(\"dt: {}\".format(time.perf_counter() - t))\n",
    "    ts_cpu.append(time.perf_counter() - t)\n",
    "plt.plot(ts_cpu, label='cpu')\n",
    "\n",
    "ts_mps = []\n",
    "for i in range(500):\n",
    "    t = time.perf_counter()\n",
    "    hi_mps * bye_mps\n",
    "    # print(\"dt: {}\".format(time.perf_counter() - t))\n",
    "    ts_mps.append(time.perf_counter() - t)\n",
    "plt.plot(ts_mps, label='mps')\n",
    "plt.legend()"
   ]
  }
 ],
 "metadata": {
  "kernelspec": {
   "display_name": "Python 3",
   "language": "python",
   "name": "python3"
  },
  "language_info": {
   "name": "python",
   "version": "3.10.8 (main, Oct 21 2022, 22:22:30) [Clang 14.0.0 (clang-1400.0.29.202)]"
  },
  "orig_nbformat": 4,
  "vscode": {
   "interpreter": {
    "hash": "b0fa6594d8f4cbf19f97940f81e996739fb7646882a419484c72d19e05852a7e"
   }
  }
 },
 "nbformat": 4,
 "nbformat_minor": 2
}
